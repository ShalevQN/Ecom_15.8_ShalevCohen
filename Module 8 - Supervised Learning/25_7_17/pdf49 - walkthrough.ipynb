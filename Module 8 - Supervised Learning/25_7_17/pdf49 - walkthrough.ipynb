{
 "cells": [
  {
   "cell_type": "code",
   "execution_count": 1,
   "id": "55637e5a-0a7b-46ca-859a-0f538bc4a1d5",
   "metadata": {},
   "outputs": [],
   "source": [
    "import numpy as np\n",
    "import pandas as pd\n",
    "import matplotlib.pyplot as plt\n",
    "import seaborn as sns\n",
    "import sklearn\n",
    "import scipy"
   ]
  },
  {
   "cell_type": "code",
   "execution_count": 3,
   "id": "45f8a1a0-ea05-443b-822c-fd099bd69e9d",
   "metadata": {},
   "outputs": [
    {
     "data": {
      "text/html": [
       "<div>\n",
       "<style scoped>\n",
       "    .dataframe tbody tr th:only-of-type {\n",
       "        vertical-align: middle;\n",
       "    }\n",
       "\n",
       "    .dataframe tbody tr th {\n",
       "        vertical-align: top;\n",
       "    }\n",
       "\n",
       "    .dataframe thead th {\n",
       "        text-align: right;\n",
       "    }\n",
       "</style>\n",
       "<table border=\"1\" class=\"dataframe\">\n",
       "  <thead>\n",
       "    <tr style=\"text-align: right;\">\n",
       "      <th></th>\n",
       "      <th>hours_of_calling_customers</th>\n",
       "      <th>money_earned</th>\n",
       "    </tr>\n",
       "  </thead>\n",
       "  <tbody>\n",
       "    <tr>\n",
       "      <th>0</th>\n",
       "      <td>2.0</td>\n",
       "      <td>50</td>\n",
       "    </tr>\n",
       "    <tr>\n",
       "      <th>1</th>\n",
       "      <td>3.0</td>\n",
       "      <td>70</td>\n",
       "    </tr>\n",
       "    <tr>\n",
       "      <th>2</th>\n",
       "      <td>4.0</td>\n",
       "      <td>90</td>\n",
       "    </tr>\n",
       "    <tr>\n",
       "      <th>3</th>\n",
       "      <td>5.0</td>\n",
       "      <td>100</td>\n",
       "    </tr>\n",
       "    <tr>\n",
       "      <th>4</th>\n",
       "      <td>6.0</td>\n",
       "      <td>110</td>\n",
       "    </tr>\n",
       "    <tr>\n",
       "      <th>5</th>\n",
       "      <td>1.5</td>\n",
       "      <td>40</td>\n",
       "    </tr>\n",
       "    <tr>\n",
       "      <th>6</th>\n",
       "      <td>5.0</td>\n",
       "      <td>110</td>\n",
       "    </tr>\n",
       "    <tr>\n",
       "      <th>7</th>\n",
       "      <td>7.0</td>\n",
       "      <td>130</td>\n",
       "    </tr>\n",
       "    <tr>\n",
       "      <th>8</th>\n",
       "      <td>8.0</td>\n",
       "      <td>145</td>\n",
       "    </tr>\n",
       "    <tr>\n",
       "      <th>9</th>\n",
       "      <td>10.0</td>\n",
       "      <td>180</td>\n",
       "    </tr>\n",
       "  </tbody>\n",
       "</table>\n",
       "</div>"
      ],
      "text/plain": [
       "   hours_of_calling_customers  money_earned\n",
       "0                         2.0            50\n",
       "1                         3.0            70\n",
       "2                         4.0            90\n",
       "3                         5.0           100\n",
       "4                         6.0           110\n",
       "5                         1.5            40\n",
       "6                         5.0           110\n",
       "7                         7.0           130\n",
       "8                         8.0           145\n",
       "9                        10.0           180"
      ]
     },
     "execution_count": 3,
     "metadata": {},
     "output_type": "execute_result"
    }
   ],
   "source": [
    "data = {'hours_of_calling_customers': [2, 3, 4, 5, 6, 1.5, 5, 7, 8, 10], 'money_earned':[50, 70, 90, 100, 110, 40, 110, 130, 145, 180]}\n",
    "df = pd.DataFrame(data)\n",
    "df"
   ]
  },
  {
   "cell_type": "code",
   "execution_count": 13,
   "id": "f63b2740-59a5-4ca0-b93d-ef50f19e2bef",
   "metadata": {},
   "outputs": [
    {
     "data": {
      "text/plain": [
       "array([[   2.,    4.,    8.],\n",
       "       [   7.,   49.,  343.],\n",
       "       [   4.,   16.,   64.],\n",
       "       [  10.,  100., 1000.],\n",
       "       [   6.,   36.,  216.],\n",
       "       [   5.,   25.,  125.],\n",
       "       [   5.,   25.,  125.]])"
      ]
     },
     "execution_count": 13,
     "metadata": {},
     "output_type": "execute_result"
    }
   ],
   "source": [
    "X = df.drop('money_earned', axis= 1)\n",
    "y = df['money_earned']\n",
    "\n",
    "train_rmse_errors = []\n",
    "test_rmse_errors= []\n",
    "\n",
    "from sklearn.preprocessing import PolynomialFeatures\n",
    "from sklearn.linear_model import LinearRegression\n",
    "from sklearn.model_selection import train_test_split\n",
    "from sklearn.metrics import mean_absolute_error, mean_squared_error\n",
    "from sklearn.preprocessing import StandardScaler\n",
    "from sklearn.linear_model import *\n",
    "\n",
    "polynomial_converter = PolynomialFeatures(degree=3, include_bias = False)\n",
    "polynomial_features = polynomial_converter.fit_transform(X)\n",
    "\n",
    "X_train, X_test, y_train, y_test = train_test_split(polynomial_features, y, test_size = 0.3, random_state = 42)\n",
    "X_train"
   ]
  },
  {
   "cell_type": "code",
   "execution_count": 11,
   "id": "218d541d-0d41-45a4-8fd4-950431f373cf",
   "metadata": {},
   "outputs": [
    {
     "data": {
      "text/plain": [
       "array([[-1.53864364, -1.11419179, -0.8278501 ],\n",
       "       [ 0.61545745,  0.43193338,  0.23588058],\n",
       "       [-0.6770032 , -0.70189174, -0.65003243],\n",
       "       [ 1.90791811,  2.18420857,  2.32206282],\n",
       "       [ 0.18463724, -0.014725  , -0.16738449],\n",
       "       [-0.24618298, -0.39266671, -0.45633819],\n",
       "       [-0.24618298, -0.39266671, -0.45633819]])"
      ]
     },
     "execution_count": 11,
     "metadata": {},
     "output_type": "execute_result"
    }
   ],
   "source": [
    "scaler = StandardScaler()\n",
    "scaler.fit(X_train)\n",
    "scaled_X_train = scaler.transform(X_train)\n",
    "scaled_X_test = scaler.transform(X_test)\n",
    "\n",
    "scaled_X_train"
   ]
  },
  {
   "cell_type": "code",
   "execution_count": 63,
   "id": "2de7b804-07ad-4e58-8925-708f35fa548c",
   "metadata": {},
   "outputs": [
    {
     "name": "stdout",
     "output_type": "stream",
     "text": [
      "[144.19318182  73.79545455  52.67613636]\n",
      "[ 59.71590909 130.11363636  87.875      172.35227273 116.03409091\n",
      " 101.95454545 101.95454545]\n"
     ]
    }
   ],
   "source": [
    "lasso_cv2 = LassoCV(eps=0.1, alphas=200)\n",
    "lasso_cv2.fit(scaled_X_train, y_train)\n",
    "\n",
    "test_predictions2 = lasso_cv2.predict(scaled_X_test)\n",
    "print(test_predictions2)\n",
    "train_predictions2  = lasso_cv2.predict(scaled_X_train)\n",
    "print(train_predictions2)"
   ]
  },
  {
   "cell_type": "code",
   "execution_count": 83,
   "id": "da0919ed-db3d-4a52-b785-d5688f2b6dcd",
   "metadata": {},
   "outputs": [
    {
     "name": "stdout",
     "output_type": "stream",
     "text": [
      "Train MAE: 5.090909090909094, Train RMSE: 6.122266153732856\n",
      "Test MAE:  5.759469696969703, Test RMSE:  7.653776059232209\n"
     ]
    }
   ],
   "source": [
    "from sklearn.metrics import mean_absolute_error, mean_squared_error\n",
    "train_mae = mean_absolute_error(y_train, train_predictions2)\n",
    "train_rmse = np.sqrt(mean_squared_error(y_train, train_predictions2))\n",
    "\n",
    "test_mae = mean_absolute_error(y_test, test_predictions2)\n",
    "test_rmse = np.sqrt(mean_squared_error(y_test, test_predictions2))\n",
    "\n",
    "\n",
    "print(f\"Train MAE: {train_mae:}, Train RMSE: {train_rmse:}\")\n",
    "print(f\"Test MAE:  {test_mae:}, Test RMSE:  {test_rmse:}\")"
   ]
  },
  {
   "cell_type": "code",
   "execution_count": 71,
   "id": "4d625e9b-79a8-4835-8744-e83b05ea7ffb",
   "metadata": {},
   "outputs": [
    {
     "name": "stdout",
     "output_type": "stream",
     "text": [
      "[136.59469697  81.84090909  65.41477273]\n",
      "[ 70.89015152 125.64393939  92.79166667 158.49621212 114.69318182\n",
      " 103.74242424 103.74242424]\n"
     ]
    }
   ],
   "source": [
    "lasso_cv1 = LassoCV(eps=0.3, alphas=100)\n",
    "lasso_cv1.fit(scaled_X_train, y_train)\n",
    "\n",
    "test_predictions1 = lasso_cv1.predict(scaled_X_test)\n",
    "print(test_predictions1)\n",
    "train_predictions1 = lasso_cv1.predict(scaled_X_train)\n",
    "print(train_predictions1)"
   ]
  },
  {
   "cell_type": "code",
   "execution_count": 85,
   "id": "e4859a76-f5d3-4ae6-ab3f-2aa7f43f616c",
   "metadata": {},
   "outputs": [
    {
     "name": "stdout",
     "output_type": "stream",
     "text": [
      "Train MAE: 9.176406926406928, Train RMSE: 11.956880502120585\n",
      "Test MAE:  15.220328282828286, Test RMSE:  16.89937789692588\n"
     ]
    }
   ],
   "source": [
    "from sklearn.metrics import mean_absolute_error, mean_squared_error\n",
    "train_mae = mean_absolute_error(y_train, train_predictions1)\n",
    "train_rmse = np.sqrt(mean_squared_error(y_train, train_predictions1))\n",
    "\n",
    "test_mae = mean_absolute_error(y_test, test_predictions1)\n",
    "test_rmse = np.sqrt(mean_squared_error(y_test, test_predictions1))\n",
    "\n",
    "\n",
    "print(f\"Train MAE: {train_mae:}, Train RMSE: {train_rmse:}\")\n",
    "print(f\"Test MAE:  {test_mae:}, Test RMSE:  {test_rmse:}\")"
   ]
  },
  {
   "cell_type": "code",
   "execution_count": 77,
   "id": "8c59309f-d89c-44fe-a091-d8f1e2187e83",
   "metadata": {},
   "outputs": [
    {
     "name": "stdout",
     "output_type": "stream",
     "text": [
      "200alpha coef:[32.68079086  0.          0.        ]\n",
      "100alpha coef:[25.41839289  0.          0.        ]\n"
     ]
    }
   ],
   "source": [
    "print(f\"200alpha coef:{lasso_cv2.coef_}\")\n",
    "print(f\"100alpha coef:{lasso_cv1.coef_}\")"
   ]
  },
  {
   "cell_type": "code",
   "execution_count": 81,
   "id": "77c6b0f4-d81c-489c-809b-d5101b944b7e",
   "metadata": {},
   "outputs": [
    {
     "name": "stdout",
     "output_type": "stream",
     "text": [
      "200alpha best alpha: 3.6311989838903154\n",
      "100alpha best alpha: 10.893596951670945\n"
     ]
    }
   ],
   "source": [
    "print(f\"200alpha best alpha: {lasso_cv2.alpha_}\")\n",
    "print(f\"100alpha best alpha: {lasso_cv1.alpha_}\")"
   ]
  },
  {
   "cell_type": "code",
   "execution_count": null,
   "id": "135196e1-f145-452a-ac35-be6fc3412bf2",
   "metadata": {},
   "outputs": [],
   "source": [
    "# Model 2 is better because the rmse is 7.65 compared to 16.9"
   ]
  }
 ],
 "metadata": {
  "kernelspec": {
   "display_name": "Python [conda env:base] *",
   "language": "python",
   "name": "conda-base-py"
  },
  "language_info": {
   "codemirror_mode": {
    "name": "ipython",
    "version": 3
   },
   "file_extension": ".py",
   "mimetype": "text/x-python",
   "name": "python",
   "nbconvert_exporter": "python",
   "pygments_lexer": "ipython3",
   "version": "3.12.7"
  }
 },
 "nbformat": 4,
 "nbformat_minor": 5
}
