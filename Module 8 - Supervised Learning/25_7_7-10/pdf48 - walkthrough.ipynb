{
 "cells": [
  {
   "cell_type": "code",
   "execution_count": 4,
   "id": "205677d7-3898-4244-b390-0c5c8d51bf94",
   "metadata": {},
   "outputs": [],
   "source": [
    "import numpy as np\n",
    "import pandas as pd\n",
    "import matplotlib.pyplot as plt\n",
    "import seaborn as sns\n",
    "import sklearn\n",
    "import scipy"
   ]
  },
  {
   "cell_type": "code",
   "execution_count": 5,
   "id": "4b9312a2-c17b-46bd-a9bb-ef298d3b6982",
   "metadata": {},
   "outputs": [
    {
     "data": {
      "text/html": [
       "<div>\n",
       "<style scoped>\n",
       "    .dataframe tbody tr th:only-of-type {\n",
       "        vertical-align: middle;\n",
       "    }\n",
       "\n",
       "    .dataframe tbody tr th {\n",
       "        vertical-align: top;\n",
       "    }\n",
       "\n",
       "    .dataframe thead th {\n",
       "        text-align: right;\n",
       "    }\n",
       "</style>\n",
       "<table border=\"1\" class=\"dataframe\">\n",
       "  <thead>\n",
       "    <tr style=\"text-align: right;\">\n",
       "      <th></th>\n",
       "      <th>hours_of_calling_customers</th>\n",
       "      <th>money_earned</th>\n",
       "    </tr>\n",
       "  </thead>\n",
       "  <tbody>\n",
       "    <tr>\n",
       "      <th>0</th>\n",
       "      <td>2.0</td>\n",
       "      <td>50</td>\n",
       "    </tr>\n",
       "    <tr>\n",
       "      <th>1</th>\n",
       "      <td>3.0</td>\n",
       "      <td>70</td>\n",
       "    </tr>\n",
       "    <tr>\n",
       "      <th>2</th>\n",
       "      <td>4.0</td>\n",
       "      <td>90</td>\n",
       "    </tr>\n",
       "    <tr>\n",
       "      <th>3</th>\n",
       "      <td>5.0</td>\n",
       "      <td>100</td>\n",
       "    </tr>\n",
       "    <tr>\n",
       "      <th>4</th>\n",
       "      <td>6.0</td>\n",
       "      <td>110</td>\n",
       "    </tr>\n",
       "    <tr>\n",
       "      <th>5</th>\n",
       "      <td>1.5</td>\n",
       "      <td>40</td>\n",
       "    </tr>\n",
       "    <tr>\n",
       "      <th>6</th>\n",
       "      <td>5.0</td>\n",
       "      <td>110</td>\n",
       "    </tr>\n",
       "    <tr>\n",
       "      <th>7</th>\n",
       "      <td>7.0</td>\n",
       "      <td>130</td>\n",
       "    </tr>\n",
       "    <tr>\n",
       "      <th>8</th>\n",
       "      <td>8.0</td>\n",
       "      <td>145</td>\n",
       "    </tr>\n",
       "    <tr>\n",
       "      <th>9</th>\n",
       "      <td>10.0</td>\n",
       "      <td>180</td>\n",
       "    </tr>\n",
       "  </tbody>\n",
       "</table>\n",
       "</div>"
      ],
      "text/plain": [
       "   hours_of_calling_customers  money_earned\n",
       "0                         2.0            50\n",
       "1                         3.0            70\n",
       "2                         4.0            90\n",
       "3                         5.0           100\n",
       "4                         6.0           110\n",
       "5                         1.5            40\n",
       "6                         5.0           110\n",
       "7                         7.0           130\n",
       "8                         8.0           145\n",
       "9                        10.0           180"
      ]
     },
     "execution_count": 5,
     "metadata": {},
     "output_type": "execute_result"
    }
   ],
   "source": [
    "data = {'hours_of_calling_customers': [2, 3, 4, 5, 6, 1.5, 5, 7, 8, 10], 'money_earned':[50, 70, 90, 100, 110, 40, 110, 130, 145, 180]}\n",
    "df = pd.DataFrame(data)\n",
    "df"
   ]
  },
  {
   "cell_type": "code",
   "execution_count": 24,
   "id": "494e01c1-083f-4cfc-b03f-f74b260dc524",
   "metadata": {},
   "outputs": [
    {
     "data": {
      "text/plain": [
       "array([[2.000e+00, 4.000e+00, 8.000e+00, 1.600e+01],\n",
       "       [7.000e+00, 4.900e+01, 3.430e+02, 2.401e+03],\n",
       "       [4.000e+00, 1.600e+01, 6.400e+01, 2.560e+02],\n",
       "       [1.000e+01, 1.000e+02, 1.000e+03, 1.000e+04],\n",
       "       [6.000e+00, 3.600e+01, 2.160e+02, 1.296e+03],\n",
       "       [5.000e+00, 2.500e+01, 1.250e+02, 6.250e+02],\n",
       "       [5.000e+00, 2.500e+01, 1.250e+02, 6.250e+02]])"
      ]
     },
     "execution_count": 24,
     "metadata": {},
     "output_type": "execute_result"
    }
   ],
   "source": [
    "X = df.drop('money_earned', axis= 1)\n",
    "y = df['money_earned']\n",
    "\n",
    "train_rmse_errors = []\n",
    "test_rmse_errors= []\n",
    "\n",
    "from sklearn.preprocessing import PolynomialFeatures\n",
    "from sklearn.linear_model import LinearRegression\n",
    "from sklearn.model_selection import train_test_split\n",
    "from sklearn.metrics import mean_absolute_error, mean_squared_error\n",
    "from sklearn.preprocessing import StandardScaler\n",
    "\n",
    "polynomial_converter = PolynomialFeatures(degree=4, include_bias = False)\n",
    "polynomial_features = polynomial_converter.fit_transform(X)\n",
    "\n",
    "X_train, X_test, y_train, y_test = train_test_split(polynomial_features, y, test_size = 0.3, random_state = 42)\n",
    "X_train"
   ]
  },
  {
   "cell_type": "code",
   "execution_count": 26,
   "id": "529615a8-0c22-47eb-a42b-475f05d9209f",
   "metadata": {},
   "outputs": [
    {
     "data": {
      "text/plain": [
       "array([[-1.53864364, -1.11419179, -0.8278501 , -0.65843227],\n",
       "       [ 0.61545745,  0.43193338,  0.23588058,  0.06921232],\n",
       "       [-0.6770032 , -0.70189174, -0.65003243, -0.58521018],\n",
       "       [ 1.90791811,  2.18420857,  2.32206282,  2.38760696],\n",
       "       [ 0.18463724, -0.014725  , -0.16738449, -0.26791442],\n",
       "       [-0.24618298, -0.39266671, -0.45633819, -0.4726312 ],\n",
       "       [-0.24618298, -0.39266671, -0.45633819, -0.4726312 ]])"
      ]
     },
     "execution_count": 26,
     "metadata": {},
     "output_type": "execute_result"
    }
   ],
   "source": [
    "scaler = StandardScaler()\n",
    "scaler.fit(X_train)\n",
    "scaled_X_train = scaler.transform(X_train)\n",
    "scaled_X_test = scaler.transform(X_test)\n",
    "\n",
    "scaled_X_train"
   ]
  },
  {
   "cell_type": "code",
   "execution_count": 22,
   "id": "c64593d7-357a-44e8-a87a-e97fec8e6cd6",
   "metadata": {
    "scrolled": true
   },
   "outputs": [
    {
     "name": "stdout",
     "output_type": "stream",
     "text": [
      "MAE: 18.128940077283385\n",
      "RMSE: 21.131772185870684\n"
     ]
    }
   ],
   "source": [
    "from sklearn.linear_model import Ridge\n",
    "from sklearn.metrics import mean_absolute_error, mean_squared_error\n",
    "\n",
    "ridge_model = Ridge(alpha= 5)\n",
    "ridge_model.fit(scaled_X_train, y_train)\n",
    "test_predictions = ridge_model.predict(scaled_X_test)\n",
    "\n",
    "MAE = mean_absolute_error(y_test, test_predictions)\n",
    "RMSE = np.sqrt(mean_squared_error(y_test, test_predictions))\n",
    "\n",
    "\n",
    "print(f\"MAE: {MAE}\")\n",
    "print(f\"RMSE: {RMSE}\")"
   ]
  }
 ],
 "metadata": {
  "kernelspec": {
   "display_name": "Python [conda env:base] *",
   "language": "python",
   "name": "conda-base-py"
  },
  "language_info": {
   "codemirror_mode": {
    "name": "ipython",
    "version": 3
   },
   "file_extension": ".py",
   "mimetype": "text/x-python",
   "name": "python",
   "nbconvert_exporter": "python",
   "pygments_lexer": "ipython3",
   "version": "3.12.7"
  }
 },
 "nbformat": 4,
 "nbformat_minor": 5
}
