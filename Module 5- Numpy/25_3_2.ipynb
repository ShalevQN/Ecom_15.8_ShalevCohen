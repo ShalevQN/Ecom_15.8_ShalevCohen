{
 "cells": [
  {
   "cell_type": "code",
   "execution_count": 42,
   "id": "4400687e-8945-4250-8bc3-f51a3d6737d4",
   "metadata": {},
   "outputs": [
    {
     "data": {
      "text/plain": [
       "array([[18, 19, 20, 21, 22, 23],\n",
       "       [24, 25, 26, 27, 28, 29],\n",
       "       [30, 31, 32, 33, 34, 35],\n",
       "       [36, 37, 38, 39, 40, 41],\n",
       "       [42, 43, 44, 45, 46, 47],\n",
       "       [48, 49, 50, 51, 52, 53]])"
      ]
     },
     "metadata": {},
     "output_type": "display_data"
    },
    {
     "name": "stdout",
     "output_type": "stream",
     "text": [
      "55\n"
     ]
    }
   ],
   "source": [
    "import numpy as np\n",
    "from IPython.display import display\n",
    "\n",
    "# 1\n",
    "nums1 = np.arange(18, 54)\n",
    "nums1.resize(6, 6)\n",
    "display(nums1)\n",
    "selected_num = nums1[3][2]\n",
    "print(selected_num + 17) # No, its 55."
   ]
  },
  {
   "cell_type": "code",
   "execution_count": 40,
   "id": "dce0a287-c02b-442c-b69d-29c2619e00b3",
   "metadata": {},
   "outputs": [
    {
     "name": "stdout",
     "output_type": "stream",
     "text": [
      "[[ 52  93  15  72  61]\n",
      " [ 21  83  87  75  75]\n",
      " [ 88 100  24   3  22]\n",
      " [ 53   2  88  30  38]\n",
      " [  2  64  60  21  33]]\n",
      "100\n",
      "57.0\n"
     ]
    }
   ],
   "source": [
    "np.random.seed(42)\n",
    "nums2= np.random.randint(1, 101, (5, 5))\n",
    "print(nums2)\n",
    "print(nums2.max())\n",
    "print(nums2.max()/2 + 7) # No, its 57."
   ]
  }
 ],
 "metadata": {
  "kernelspec": {
   "display_name": "Python 3 (ipykernel)",
   "language": "python",
   "name": "python3"
  },
  "language_info": {
   "codemirror_mode": {
    "name": "ipython",
    "version": 3
   },
   "file_extension": ".py",
   "mimetype": "text/x-python",
   "name": "python",
   "nbconvert_exporter": "python",
   "pygments_lexer": "ipython3",
   "version": "3.13.1"
  }
 },
 "nbformat": 4,
 "nbformat_minor": 5
}
