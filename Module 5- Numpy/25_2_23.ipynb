{
 "cells": [
  {
   "cell_type": "code",
   "execution_count": 300,
   "id": "51f61431-c51b-4f0c-a09b-f744003d7df7",
   "metadata": {},
   "outputs": [
    {
     "name": "stdout",
     "output_type": "stream",
     "text": [
      "[1 2 3 4 5 6 7 8 9]\n",
      "[0.5  0.75 1.   1.25 1.5  1.75 2.   2.25 2.5  2.75 3.   3.25 3.5  3.75\n",
      " 4.   4.25 4.5  4.75]\n",
      "[0. 0. 0. 0. 0. 0. 0. 0. 0. 0.]\n",
      "[[0. 0. 0. 0.]\n",
      " [0. 0. 0. 0.]\n",
      " [0. 0. 0. 0.]]\n",
      "[ 2.   4.5  7.   9.5 12. ]\n",
      "[3. 5. 7. 9.]\n",
      "[[0.81651538 0.21726874 0.54985772 0.89797646]\n",
      " [0.584744   0.30501947 0.93072645 0.25125526]]\n",
      "[[10 17 16]\n",
      " [12 17 11]\n",
      " [13 13 12]]\n",
      "[[0.81651538 0.21726874 0.54985772 0.89797646 0.584744   0.30501947\n",
      "  0.93072645 0.25125526]]\n"
     ]
    }
   ],
   "source": [
    "import numpy as np\n",
    "\n",
    "#1\n",
    "print(np.arange(1, 10))\n",
    "## print(np.arange(1, 11))\n",
    "print(np.arange(0.5, 5, 0.25))\n",
    "## print(np.arange(0.5, 5.25, 0.25))\n",
    "\n",
    "#2\n",
    "print(np.zeros(10))\n",
    "print(np.zeros((3,4)))\n",
    "\n",
    "#3\n",
    "print(np.linspace(2, 12, 5))\n",
    "print(np.linspace(3, 9, 4))\n",
    "\n",
    "#4\n",
    "#a\n",
    "reshapable = np.random.rand(2,4)\n",
    "print(reshapable)\n",
    "#b\n",
    "print(np.random.randint(10, 21, size=(3,3)))\n",
    "#c\n",
    "print(np.reshape(reshapable, (1,8))) # be careful to store the values so it would not randomize again\n",
    "\n",
    "#5\n",
    "# the random numbers will be predictable, we would get the same numbers again and again\n",
    "# with seed, you can recycle your results, compare and share them."
   ]
  }
 ],
 "metadata": {
  "kernelspec": {
   "display_name": "Python 3 (ipykernel)",
   "language": "python",
   "name": "python3"
  },
  "language_info": {
   "codemirror_mode": {
    "name": "ipython",
    "version": 3
   },
   "file_extension": ".py",
   "mimetype": "text/x-python",
   "name": "python",
   "nbconvert_exporter": "python",
   "pygments_lexer": "ipython3",
   "version": "3.13.1"
  }
 },
 "nbformat": 4,
 "nbformat_minor": 5
}
