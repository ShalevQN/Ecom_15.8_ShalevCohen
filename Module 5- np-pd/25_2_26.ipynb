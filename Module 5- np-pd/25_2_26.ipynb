{
 "cells": [
  {
   "cell_type": "code",
   "execution_count": 2,
   "id": "921e58d8-80ea-43a0-b921-9717d4bab2f5",
   "metadata": {},
   "outputs": [
    {
     "data": {
      "text/plain": [
       "array([[ 1,  2,  3,  4],\n",
       "       [ 5,  6,  7,  8],\n",
       "       [ 9, 10, 11, 12],\n",
       "       [13, 14, 15, 16]])"
      ]
     },
     "metadata": {},
     "output_type": "display_data"
    }
   ],
   "source": [
    "## 1\n",
    "import numpy as np\n",
    "from IPython.display import display\n",
    "\n",
    "num16 = np.arange(1, 17)\n",
    "num16.resize(4, 4)\n",
    "display(num16)"
   ]
  },
  {
   "cell_type": "code",
   "execution_count": 8,
   "id": "a46ae0b1-accd-44dd-9940-18b63b975298",
   "metadata": {},
   "outputs": [
    {
     "data": {
      "text/plain": [
       "array([[10, 15, 20, 25],\n",
       "       [30, 35, 40, 45]])"
      ]
     },
     "metadata": {},
     "output_type": "display_data"
    }
   ],
   "source": [
    "## 2\n",
    "num1050 = np.arange(10, 51, 5)\n",
    "num1050.resize(2,4)\n",
    "display(num1050)"
   ]
  },
  {
   "cell_type": "code",
   "execution_count": 28,
   "id": "a4fe79d4-0ef4-4147-9846-cd5461ec05c9",
   "metadata": {},
   "outputs": [
    {
     "name": "stdout",
     "output_type": "stream",
     "text": [
      "[[44 23 13]\n",
      " [22 54 89]\n",
      " [12 33 85]]\n",
      "89\n",
      "12\n"
     ]
    }
   ],
   "source": [
    "## 3\n",
    "num1100 = np.random.randint(1, 101, 9)\n",
    "num1100.resize(3,3)\n",
    "print(num1100)\n",
    "print(num1100.max())\n",
    "print(num1100.min())"
   ]
  },
  {
   "cell_type": "code",
   "execution_count": 58,
   "id": "b8a66735-5f78-40db-9c5a-33b7338381ac",
   "metadata": {},
   "outputs": [
    {
     "name": "stdout",
     "output_type": "stream",
     "text": [
      "[20 19 14  8 17  6 16  5 17  3]\n",
      "5 first [20 19 14  8 17]\n",
      "jump 2 [20 14 17 16 17]\n",
      "reverse [ 3 17  5 16  6 17  8 14 19 20]\n"
     ]
    }
   ],
   "source": [
    "## BONUS 4\n",
    "num20 = np.random.randint(1, 21, 10)\n",
    "\n",
    "print(num20)\n",
    "\n",
    "print(\"5 first\", num20[:5])\n",
    "print(\"jump 2\", num20[::2])\n",
    "print(\"reverse\", num20[::-1])"
   ]
  },
  {
   "cell_type": "code",
   "execution_count": 80,
   "id": "3489f758-48de-43bc-a66e-c7d3b177cfe7",
   "metadata": {},
   "outputs": [
    {
     "name": "stdout",
     "output_type": "stream",
     "text": [
      "[[47 11 13 46 16]\n",
      " [ 5 46 22 29  3]\n",
      " [37 44 44 40  5]\n",
      " [30 26 26 35 29]]\n",
      "second row [ 5 46 22 29  3]\n",
      "collum four [46 29 40 35]\n"
     ]
    }
   ],
   "source": [
    "## BONUS 5\n",
    "num150 = np.random.randint(1, 51, (4,5))\n",
    "print(num150)\n",
    "\n",
    "print(\"second row\", num150[1])\n",
    "print(\"collum four\", num150[:, 3])"
   ]
  },
  {
   "cell_type": "code",
   "execution_count": 118,
   "id": "4c69b8b2-3b21-4150-bd46-7aef022ca6fd",
   "metadata": {},
   "outputs": [
    {
     "name": "stdout",
     "output_type": "stream",
     "text": [
      "[45 90 65 10 47 74 41 76 28  7 11  2 37 29 74]\n",
      "index of 90 (max) 1\n",
      "index of 2 (min) 11\n"
     ]
    }
   ],
   "source": [
    "## BONUS 6\n",
    "num15 = np.random.randint(0, 101, 15)\n",
    "print(num15)\n",
    "\n",
    "print(f\"index of {num15.max()} (max)\", num15.argmax())\n",
    "print(f\"index of {num15.min()} (min)\", num15.argmin())"
   ]
  },
  {
   "cell_type": "code",
   "execution_count": 134,
   "id": "93b306a7-a30f-4a1c-889e-6f23157f5502",
   "metadata": {},
   "outputs": [
    {
     "name": "stdout",
     "output_type": "stream",
     "text": [
      "[45 90 65 10 47 74 41 76 28  7 11  2 37 29 74]\n",
      "divisible by 5: [45 90 65 10]\n",
      "smaller than 10 OR bigger than 50: [45 90 65 47 74 41 76 28 11 37 29 74]\n"
     ]
    }
   ],
   "source": [
    "## continue 6\n",
    "np.save(\"num15.npy\", num15)\n",
    "print(np.load(\"num15.npy\"))\n",
    "\n",
    "filtered_num15div5 = num15[num15 % 5 == 0]\n",
    "print(\"divisible by 5:\", filtered_num15div5)\n",
    "\n",
    "filterednum15b = num15[(10 < num15)| (num15 > 50)]\n",
    "print(\"smaller than 10 OR bigger than 50:\", filterednum15b)"
   ]
  },
  {
   "cell_type": "code",
   "execution_count": 163,
   "id": "7675efc3-d5b6-40a3-88c3-0d2ab1e52c08",
   "metadata": {},
   "outputs": [
    {
     "name": "stdout",
     "output_type": "stream",
     "text": [
      "heres the numbers: [86 35 41 97 25 86 84 98 95 95 76 28 70 21 79]\n",
      "the best seed was 29, it had 7 numbers above 80.\n"
     ]
    }
   ],
   "source": [
    "## BONUS / CHALLENGE\n",
    "most_above_80_seed = None\n",
    "max_nums_above_80 = 0\n",
    "\n",
    "\n",
    "for seed in range(10, 101):\n",
    "    np.random.seed(seed)\n",
    "    nums = np.random.randint(1, 101, 15)\n",
    "    nums_above_80 = np.sum(nums > 80)\n",
    "    \n",
    "    if nums_above_80 > max_nums_above_80:\n",
    "        max_nums_above_80 = nums_above_80\n",
    "        most_above_80_seed = seed\n",
    "\n",
    "np.random.seed(most_above_80_seed)\n",
    "numbers = np.random.randint(1, 101, 15)\n",
    "count_above_80 = np.sum(numbers > 80)\n",
    "\n",
    "print(f\"heres the numbers: {numbers}\")\n",
    "print(f\"the best seed was {most_above_80_seed}, it had {count_above_80} numbers above 80.\")"
   ]
  }
 ],
 "metadata": {
  "kernelspec": {
   "display_name": "Python 3 (ipykernel)",
   "language": "python",
   "name": "python3"
  },
  "language_info": {
   "codemirror_mode": {
    "name": "ipython",
    "version": 3
   },
   "file_extension": ".py",
   "mimetype": "text/x-python",
   "name": "python",
   "nbconvert_exporter": "python",
   "pygments_lexer": "ipython3",
   "version": "3.13.1"
  }
 },
 "nbformat": 4,
 "nbformat_minor": 5
}
