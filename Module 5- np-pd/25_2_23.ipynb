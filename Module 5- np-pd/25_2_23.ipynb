{
 "cells": [
  {
   "cell_type": "code",
   "execution_count": 303,
   "id": "51f61431-c51b-4f0c-a09b-f744003d7df7",
   "metadata": {},
   "outputs": [
    {
     "name": "stdout",
     "output_type": "stream",
     "text": [
      "[1 2 3 4 5 6 7 8 9]\n",
      "[0.5  0.75 1.   1.25 1.5  1.75 2.   2.25 2.5  2.75 3.   3.25 3.5  3.75\n",
      " 4.   4.25 4.5  4.75]\n"
     ]
    }
   ],
   "source": [
    "import numpy as np\n",
    "\n",
    "#1\n",
    "print(np.arange(1, 10))\n",
    "## print(np.arange(1, 11))\n",
    "print(np.arange(0.5, 5, 0.25))\n",
    "## print(np.arange(0.5, 5.25, 0.25))"
   ]
  },
  {
   "cell_type": "code",
   "execution_count": 305,
   "id": "25707bed-ba6f-41fd-898e-723510c238d7",
   "metadata": {},
   "outputs": [
    {
     "name": "stdout",
     "output_type": "stream",
     "text": [
      "[0. 0. 0. 0. 0. 0. 0. 0. 0. 0.]\n",
      "[[0. 0. 0. 0.]\n",
      " [0. 0. 0. 0.]\n",
      " [0. 0. 0. 0.]]\n"
     ]
    }
   ],
   "source": [
    "#2\n",
    "print(np.zeros(10))\n",
    "print(np.zeros((3,4)))"
   ]
  },
  {
   "cell_type": "code",
   "execution_count": 307,
   "id": "df1baca2-acea-4c53-ba9c-c050f58acb30",
   "metadata": {},
   "outputs": [
    {
     "name": "stdout",
     "output_type": "stream",
     "text": [
      "[ 2.   4.5  7.   9.5 12. ]\n",
      "[3. 5. 7. 9.]\n"
     ]
    }
   ],
   "source": [
    "#3\n",
    "print(np.linspace(2, 12, 5))\n",
    "print(np.linspace(3, 9, 4))"
   ]
  },
  {
   "cell_type": "code",
   "execution_count": 309,
   "id": "1ec1ae7c-6647-45ab-9d96-56ddcc0961a0",
   "metadata": {},
   "outputs": [
    {
     "name": "stdout",
     "output_type": "stream",
     "text": [
      "[[0.4671373  0.42192488 0.42414256 0.20400455]\n",
      " [0.87782193 0.33156152 0.37527025 0.88332608]]\n",
      "[[13 18 17]\n",
      " [18 14 10]\n",
      " [12 19 13]]\n",
      "[[0.4671373  0.42192488 0.42414256 0.20400455 0.87782193 0.33156152\n",
      "  0.37527025 0.88332608]]\n"
     ]
    }
   ],
   "source": [
    "#4\n",
    "#a\n",
    "reshapable = np.random.rand(2,4)\n",
    "print(reshapable)\n",
    "#b\n",
    "print(np.random.randint(10, 21, size=(3,3)))\n",
    "#c\n",
    "print(np.reshape(reshapable, (1,8))) # be careful to store the values so it would not randomize again"
   ]
  },
  {
   "cell_type": "code",
   "execution_count": 311,
   "id": "eaab284d-f67d-473b-b848-a314d2113ddd",
   "metadata": {},
   "outputs": [],
   "source": [
    "#5\n",
    "# the random numbers will be predictable, we would get the same numbers again and again\n",
    "# with seed, you can recycle your results, compare and share them."
   ]
  }
 ],
 "metadata": {
  "kernelspec": {
   "display_name": "Python 3 (ipykernel)",
   "language": "python",
   "name": "python3"
  },
  "language_info": {
   "codemirror_mode": {
    "name": "ipython",
    "version": 3
   },
   "file_extension": ".py",
   "mimetype": "text/x-python",
   "name": "python",
   "nbconvert_exporter": "python",
   "pygments_lexer": "ipython3",
   "version": "3.13.1"
  }
 },
 "nbformat": 4,
 "nbformat_minor": 5
}
